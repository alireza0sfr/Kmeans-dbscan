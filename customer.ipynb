{
 "cells": [
  {
   "cell_type": "markdown",
   "id": "b148bb3b",
   "metadata": {},
   "source": [
    "# Customer\n",
    "Training a model that can cluster customers in diffrent groups"
   ]
  },
  {
   "cell_type": "markdown",
   "id": "c6cebe1d",
   "metadata": {},
   "source": [
    "### Importing the required libraries "
   ]
  },
  {
   "cell_type": "code",
   "execution_count": null,
   "id": "d96be789",
   "metadata": {},
   "outputs": [],
   "source": [
    "import numpy as np \n",
    "from sklearn.cluster import DBSCAN, KMeans\n",
    "from sklearn.preprocessing import MinMaxScaler, LabelEncoder\n",
    "import matplotlib.pyplot as plt\n",
    "import pandas as pd\n",
    "from joblib import dump\n",
    "%matplotlib inline"
   ]
  },
  {
   "cell_type": "markdown",
   "id": "d44882fa",
   "metadata": {},
   "source": [
    "### Reading the data and trying to understand it"
   ]
  },
  {
   "cell_type": "code",
   "execution_count": null,
   "id": "2bb11642",
   "metadata": {},
   "outputs": [],
   "source": [
    "df = pd.read_csv(\"customer.csv\")\n",
    "print(df.count())\n",
    "print(df.dtypes)"
   ]
  },
  {
   "cell_type": "code",
   "execution_count": null,
   "id": "5543f707",
   "metadata": {},
   "outputs": [],
   "source": [
    "df.head()"
   ]
  },
  {
   "cell_type": "markdown",
   "id": "bb631bf5",
   "metadata": {},
   "source": [
    "## Normalizing the Data"
   ]
  },
  {
   "cell_type": "code",
   "execution_count": null,
   "id": "ca6f9f10",
   "metadata": {
    "scrolled": true
   },
   "outputs": [],
   "source": [
    "# Normalizing the data\n",
    "le_sex = LabelEncoder()\n",
    "le_sex.fit(['Female','Male'])\n",
    "df['Gender'] = le_sex.transform(df['Gender'])\n",
    "df = df.dropna()\n",
    "\n",
    "x = np.asanyarray(df[['Gender', 'Age', 'Annual Income (k$)', 'Spending Score (1-100)']])\n",
    "min_max_scaler = MinMaxScaler()\n",
    "x = min_max_scaler.fit_transform(x)\n",
    "df.head()"
   ]
  },
  {
   "cell_type": "markdown",
   "id": "59bf22f8",
   "metadata": {},
   "source": [
    "## Training the Model using DBSCAN"
   ]
  },
  {
   "cell_type": "code",
   "execution_count": null,
   "id": "975af121",
   "metadata": {},
   "outputs": [],
   "source": [
    "def dbscan(r, m, printLabels = False, printCores = False):\n",
    "    \n",
    "    global db, dbLabels\n",
    "    \n",
    "    print('radius:', r)\n",
    "    print('minimum samples:', m)\n",
    "    print('============')\n",
    "    db = DBSCAN(eps=r, min_samples=m).fit(x)\n",
    "    dbLabels = db.labels_\n",
    "    if printLabels: print('labels:', dbLabels)\n",
    "    uniqueLabels = set(dbLabels)\n",
    "    print('============')\n",
    "    print('unique_labels:', uniqueLabels)\n",
    "    print('============')\n",
    "    \n",
    "    #Distinguish outliers\n",
    "    core_samples_mask = np.zeros_like(dbLabels, dtype=bool)\n",
    "    core_samples_mask[db.core_sample_indices_] = True\n",
    "    if printLabels: print('cores:', core_samples_mask)"
   ]
  },
  {
   "cell_type": "markdown",
   "id": "44a16f6f",
   "metadata": {},
   "source": [
    "## Checking other radius and minimum samples"
   ]
  },
  {
   "cell_type": "code",
   "execution_count": null,
   "id": "ece7eb6d",
   "metadata": {},
   "outputs": [],
   "source": [
    "for r in np.linspace(0.1, 1, 10):\n",
    "    for m in range(3, 11):\n",
    "        dbscan(round(r, 2), m)\n",
    "        \n",
    "dbscan(0.3, 6, True, True) #training final model"
   ]
  },
  {
   "cell_type": "markdown",
   "id": "b812dbde",
   "metadata": {},
   "source": [
    "## Insight on the data"
   ]
  },
  {
   "cell_type": "code",
   "execution_count": null,
   "id": "88c48dfa",
   "metadata": {
    "scrolled": true
   },
   "outputs": [],
   "source": [
    "df['DBSCAN-Clus'] = dbLabels\n",
    "print(df.groupby('DBSCAN-Clus').mean())\n",
    "df.head()"
   ]
  },
  {
   "cell_type": "markdown",
   "id": "19eceb80",
   "metadata": {},
   "source": [
    "## Training the model using K-Means"
   ]
  },
  {
   "cell_type": "code",
   "execution_count": null,
   "id": "2ff3aa11",
   "metadata": {},
   "outputs": [],
   "source": [
    "def kmeans(clusterNum, initAmount):\n",
    "    \n",
    "    global k_means, kmeansLabels\n",
    "    \n",
    "    print('clusterNum', clusterNum)\n",
    "    print('initAmount', initAmount)\n",
    "    print('============')\n",
    "    # I didnt make init type 'random' because i think its more relevent \n",
    "    k_means = KMeans(init = 'k-means++', n_clusters = clusterNum, n_init = initAmount) \n",
    "    k_means.fit(x)\n",
    "    kmeansLabels = k_means.labels_\n",
    "    print(kmeansLabels)"
   ]
  },
  {
   "cell_type": "markdown",
   "id": "d507b995",
   "metadata": {},
   "source": [
    "## Checking other cluster numbers and init numbers"
   ]
  },
  {
   "cell_type": "code",
   "execution_count": null,
   "id": "ab495c5b",
   "metadata": {
    "button": false,
    "new_sheet": false,
    "run_control": {
     "read_only": false
    }
   },
   "outputs": [],
   "source": [
    "for cluster in range(1, 5):\n",
    "    for init in range(1, 15):\n",
    "        kmeans(cluster, init)\n",
    "        \n",
    "kmeans(3, 15) # Training final model"
   ]
  },
  {
   "cell_type": "markdown",
   "id": "ff797a05",
   "metadata": {},
   "source": [
    "## Insight on the data"
   ]
  },
  {
   "cell_type": "code",
   "execution_count": null,
   "id": "352c59ae",
   "metadata": {},
   "outputs": [],
   "source": [
    "df['KMeans-Clus'] = kmeansLabels\n",
    "print(df.groupby('KMeans-Clus').mean())\n",
    "df.head()"
   ]
  },
  {
   "cell_type": "markdown",
   "id": "8b38c285",
   "metadata": {},
   "source": [
    "## Saving the model for future use"
   ]
  },
  {
   "cell_type": "code",
   "execution_count": null,
   "id": "06ec3a85",
   "metadata": {},
   "outputs": [],
   "source": [
    "dump(k_means, 'customer-kmeans-model.joblib')\n",
    "dump(db, 'customer-dbscan-model.joblib') "
   ]
  }
 ],
 "metadata": {
  "kernelspec": {
   "display_name": "Python 3 (ipykernel)",
   "language": "python",
   "name": "python3"
  },
  "language_info": {
   "codemirror_mode": {
    "name": "ipython",
    "version": 3
   },
   "file_extension": ".py",
   "mimetype": "text/x-python",
   "name": "python",
   "nbconvert_exporter": "python",
   "pygments_lexer": "ipython3",
   "version": "3.9.7"
  }
 },
 "nbformat": 4,
 "nbformat_minor": 5
}
